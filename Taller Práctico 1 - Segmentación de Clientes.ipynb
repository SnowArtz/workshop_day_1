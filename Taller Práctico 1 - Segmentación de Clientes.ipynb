{
 "cells": [
  {
   "cell_type": "markdown",
   "id": "8b06c3b1",
   "metadata": {},
   "source": [
    "# Taller Práctico 1: Construcción de Modelos Analíticos Orientados a la Segmentación de Clientes\n",
    "\n",
    "**Objetivos del Taller:**\n",
    "\n",
    "* Comprender la importancia de la segmentación de clientes en la estrategia de negocio.\n",
    "* Aprender a preparar, analizar y segmentar datos de clientes.\n",
    "* Desarrollar modelos de segmentación usando técnicas de clustering."
   ]
  },
  {
   "cell_type": "markdown",
   "id": "3bff2319",
   "metadata": {},
   "source": [
    "# Introducción a la Segmentación de Clientes\n",
    "\n",
    "La segmentación de clientes consiste en dividir una base de clientes en grupos más pequeños y homogéneos según características, comportamientos o necesidades compartidas. Este proceso permite a las empresas comprender mejor a sus clientes, facilitando la toma de decisiones estratégicas en áreas clave como el desarrollo de productos, la gestión de operaciones, el servicio al cliente y, por supuesto, el marketing. A continuación, se detallan algunos beneficios clave de la segmentación de clientes:\n",
    "\n",
    "* **Personalización de la Experiencia del Cliente:** La segmentación facilita la adaptación de la experiencia de cada cliente según sus preferencias y necesidades, lo que incrementa su satisfacción y fidelidad.\n",
    "\n",
    "* **Optimización de Recursos y Operaciones:** Identificar los segmentos con mayores necesidades permite a la empresa priorizar recursos en áreas críticas, optimizando esfuerzos en distribución, servicio, soporte técnico, entre otros.\n",
    "\n",
    "* **Desarrollo de Productos y Servicios:** Con un conocimiento más profundo de los diferentes perfiles de cliente, es posible crear productos y servicios adaptados a cada segmento, impulsando la innovación y atendiendo mejor las demandas específicas del mercado.\n",
    "\n",
    "Esta estrategia no solo mejora la eficiencia operativa, sino que también fortalece las relaciones con los clientes, potenciando el crecimiento de la empresa en el largo plazo."
   ]
  },
  {
   "cell_type": "markdown",
   "id": "4bf62ff8",
   "metadata": {},
   "source": [
    "# Construcción de un Modelo Analítico Orientado a la Segmentación de Clientes"
   ]
  },
  {
   "cell_type": "markdown",
   "id": "f0f3bffe",
   "metadata": {},
   "source": [
    "## Instalar las bibliotecas necesarias\n",
    "\n",
    "Lo primero que debemos hacer es asegurarnos de tener todas las bibliotecas necesarias instaladas y cargadas en nuestro entorno de trabajo. Estas bibliotecas proporcionan las herramientas fundamentales para manipular datos, realizar análisis estadísticos, construir y evaluar modelos de machine learning. A continuación, se muestran las bibliotecas que utilizaremos a lo largo de este notebook:\n",
    "\n",
    "* **numpy:** Biblioteca fundamental para operaciones matemáticas avanzadas y manipulación de arreglos en Python.\n",
    "\n",
    "* **pandas:** Biblioteca poderosa para el análisis de datos, especialmente útil para trabajar con datos en formato de tablas (DataFrames).\n",
    "\n",
    "* **seaborn:** Biblioteca para visualización de datos que facilita la creación de gráficos estadísticos claros y atractivos.\n",
    "\n",
    "* **matplotlib:** Biblioteca esencial para crear visualizaciones y gráficos personalizados en Python.\n",
    "\n",
    "* **sklearn:** Conjunto de herramientas de machine learning en Python que incluye algoritmos para clasificación, regresión y agrupamiento, entre otros."
   ]
  },
  {
   "cell_type": "code",
   "execution_count": null,
   "id": "0f19db40",
   "metadata": {},
   "outputs": [],
   "source": [
    "#!pip install numpy pandas seaborn matplotlib scikit-learn"
   ]
  },
  {
   "cell_type": "markdown",
   "id": "b9153a63",
   "metadata": {},
   "source": [
    "## Cargar las bibliotecas previamente instaladas\n",
    "\n",
    "Ahora que tenemos instaladas todas las bibliotecas necesarias, procedemos a cargarlas en nuestro entorno de trabajo."
   ]
  },
  {
   "cell_type": "code",
   "execution_count": null,
   "id": "51abb8ca",
   "metadata": {},
   "outputs": [],
   "source": [
    "import numpy as np\n",
    "import pandas as pd\n",
    "import seaborn as sns\n",
    "import matplotlib.pyplot as plt\n",
    "\n",
    "from sklearn.cluster import KMeans\n",
    "from sklearn.metrics import silhouette_score\n",
    "from sklearn.preprocessing import StandardScaler"
   ]
  },
  {
   "cell_type": "markdown",
   "id": "06fa66f4",
   "metadata": {},
   "source": [
    "## Cargar el conjunto de datos\n",
    "\n",
    "Con las bibliotecas listas, el siguiente paso es cargar nuestro conjunto de datos que utilizaremos para la construcción de nuestro modelo de segmentación de clientes."
   ]
  },
  {
   "cell_type": "code",
   "execution_count": null,
   "id": "e4cb22be",
   "metadata": {},
   "outputs": [],
   "source": [
    "data = pd.read_csv(\"./data/customer_transactions_dataset_1.csv\")"
   ]
  },
  {
   "cell_type": "markdown",
   "id": "9a8e67fa",
   "metadata": {},
   "source": [
    "## Entendimiento de los Datos\n",
    "\n",
    "Para construir un modelo de segmentación efectivo, es fundamental entender la estructura y las características del conjunto de datos. A continuación, exploraremos el conjunto de datos utilizando varias técnicas, incluyendo una inspección rápida de las primeras filas, un análisis general de las columnas, estadísticas descriptivas, y visualizaciones de las principales variables.\n",
    "\n",
    "Comenzamos visualizando las primeras filas del conjunto de datos para obtener una idea inicial de las variables y su formato."
   ]
  },
  {
   "cell_type": "code",
   "execution_count": null,
   "id": "7573ed26",
   "metadata": {},
   "outputs": [],
   "source": [
    "# Muestra las primeras filas del conjunto de datos\n",
    "data.head()"
   ]
  },
  {
   "cell_type": "markdown",
   "id": "19630878",
   "metadata": {},
   "source": [
    "La función `info()` nos proporciona información general sobre el conjunto de datos, incluyendo el número de filas y columnas, los tipos de datos en cada columna y el número de valores no nulos, ayudándonos a detectar posibles datos faltantes o inconsistencias."
   ]
  },
  {
   "cell_type": "code",
   "execution_count": null,
   "id": "e79665c6",
   "metadata": {},
   "outputs": [],
   "source": [
    "# Muestra información general del conjunto de datos, como tipos de datos y valores nulos\n",
    "data.info()"
   ]
  },
  {
   "cell_type": "markdown",
   "id": "2f20ac85",
   "metadata": {},
   "source": [
    "A través de la función `describe()` calculamos las estadísticas descriptivas de las variables numéricas, como la media, desviación estándar y valores extremos. Esto nos permite conocer la dispersión y centralización de los datos."
   ]
  },
  {
   "cell_type": "code",
   "execution_count": null,
   "id": "837ecdb8",
   "metadata": {},
   "outputs": [],
   "source": [
    "data.describe()"
   ]
  },
  {
   "cell_type": "markdown",
   "id": "9cf4c611",
   "metadata": {},
   "source": [
    "Para analizar la dispersión y variabilidad de las compras, visualizamos la distribución de las variables `Cantidad` y `Valor`. La `Cantidad` muestra la variabilidad en la cantidad de productos comprados en cada transacción, mientras que `Valor` representa el monto total de cada transacción."
   ]
  },
  {
   "cell_type": "code",
   "execution_count": null,
   "id": "3126d00f",
   "metadata": {
    "scrolled": false
   },
   "outputs": [],
   "source": [
    "# Configuración de subgráficos para visualización de la distribución de Cantidad y Valor\n",
    "fig, axes = plt.subplots(1, 2, figsize=(16, 6))\n",
    "\n",
    "# Violinplot para la variable 'Cantidad' para una visualización más innovadora\n",
    "sns.violinplot(data=data, x='Cantidad', ax=axes[0], inner=\"box\", color=\"skyblue\")\n",
    "axes[0].set_title('Distribución de la Cantidad')\n",
    "axes[0].set_xlabel('Cantidad')\n",
    "\n",
    "# Histograma con estimación de densidad para la variable 'Valor'\n",
    "sns.histplot(data=data, x='Valor', kde=True, ax=axes[1], color=\"salmon\")\n",
    "axes[1].set_title('Distribución del Valor de la Transacción')\n",
    "axes[1].set_xlabel('Valor')\n",
    "\n",
    "# Ajuste de espaciado entre subgráficos\n",
    "plt.tight_layout()\n",
    "plt.show()"
   ]
  },
  {
   "cell_type": "markdown",
   "id": "292781c7",
   "metadata": {},
   "source": [
    "A continuación, se presenta la distribución demográfica de los clientes en la base de datos según la variable \"Segmento de Mercado\" que en este contexto refleja la edad de los clientes."
   ]
  },
  {
   "cell_type": "code",
   "execution_count": null,
   "id": "891203a7",
   "metadata": {},
   "outputs": [],
   "source": [
    "# Histograma con densidad para la variable 'Segmento de Mercado'\n",
    "sns.histplot(data=data, x='Segmento de Mercado', kde=True, bins=15, color=\"skyblue\")\n",
    "plt.title('Distribución del Segmento de Mercado')\n",
    "plt.xlabel('Edad')\n",
    "plt.ylabel('Frecuencia')\n",
    "\n",
    "# Mostrar la gráfica\n",
    "plt.show()"
   ]
  },
  {
   "cell_type": "markdown",
   "id": "f1d92ca9",
   "metadata": {},
   "source": [
    "Aquí visualizamos la cantidad de transacciones a través de cada canal de venta para identificar el uso de los diferentes canales por los clientes."
   ]
  },
  {
   "cell_type": "code",
   "execution_count": null,
   "id": "8997ef80",
   "metadata": {},
   "outputs": [],
   "source": [
    "# Gráfico de conteo para la variable 'Canal de Venta'\n",
    "sns.countplot(x=data['Canal de Venta'])\n",
    "plt.title('Distribución del Canal de Venta')\n",
    "plt.show()"
   ]
  },
  {
   "cell_type": "markdown",
   "id": "7ad38bb3",
   "metadata": {},
   "source": [
    "En esta celda, analizamos la evolución del valor total de las transacciones a lo largo del tiempo para identificar tendencias y patrones en las compras de los clientes."
   ]
  },
  {
   "cell_type": "code",
   "execution_count": null,
   "id": "01c8da0d",
   "metadata": {},
   "outputs": [],
   "source": [
    "# Convertir la columna 'Fecha de Compra' a formato de fecha\n",
    "data['Fecha de Compra'] = pd.to_datetime(data['Fecha de Compra'], errors='coerce')\n",
    "\n",
    "# Agrupar datos por fecha para obtener el valor total de transacciones y el recuento de compras\n",
    "data_by_date = data.groupby('Fecha de Compra').agg({'Valor': 'sum', 'Cantidad': 'count'}).reset_index()\n",
    "\n",
    "# Gráfico de línea para visualizar la evolución del valor total de transacciones\n",
    "plt.figure(figsize=(12, 6))\n",
    "plt.plot(data_by_date['Fecha de Compra'], data_by_date['Valor'], marker='o')\n",
    "plt.title('Evolución del Valor de Transacciones a lo Largo del Tiempo')\n",
    "plt.xlabel('Fecha de Compra')\n",
    "plt.ylabel('Valor Total de Transacciones')\n",
    "plt.xticks(rotation=45)\n",
    "plt.grid()\n",
    "plt.show()"
   ]
  },
  {
   "cell_type": "markdown",
   "id": "c952d35a",
   "metadata": {},
   "source": [
    "## Preparación de los Datos\n",
    "\n",
    "Antes de realizar el análisis de segmentación, es esencial preparar el conjunto de datos. Esto implica limpiar y transformar los datos para que sean coherentes y adecuados para los algoritmos de machine learning. A continuación, realizamos varios pasos de preparación, incluyendo la eliminación de duplicados, el manejo de valores nulos, el cálculo de métricas relevantes por cliente, la selección de variables relevantes y el escalado de las mismas.\n",
    "\n",
    "### Eliminación de registros duplicados\n",
    "\n",
    "El primer paso que haremos es eliminar cualquier duplicado en el conjunto de datos, en este contexto quiere decir, eliminar aquellas transacciones que se registraron más de una vez por error. Los duplicados pueden afectar la precisión del modelo y distorsionar las métricas calculadas, como las frecuencias y promedios."
   ]
  },
  {
   "cell_type": "code",
   "execution_count": null,
   "id": "0f9dcd6d",
   "metadata": {},
   "outputs": [],
   "source": [
    "# Eliminar registros duplicados en el conjunto de datos\n",
    "data = data.drop_duplicates()\n",
    "data.head()"
   ]
  },
  {
   "cell_type": "markdown",
   "id": "63cc5349",
   "metadata": {},
   "source": [
    "### Eliminación de registros con valores nulos"
   ]
  },
  {
   "cell_type": "markdown",
   "id": "95bfca54",
   "metadata": {},
   "source": [
    "A continuación, eliminamos las filas con valores nulos. Esto asegura que las métricas calculadas no se vean afectadas por datos incompletos. Es importante evaluar previamente si la eliminación de estas filas afecta significativamente el tamaño de la muestra."
   ]
  },
  {
   "cell_type": "code",
   "execution_count": null,
   "id": "9f139d4d",
   "metadata": {},
   "outputs": [],
   "source": [
    "# Eliminar filas con valores nulos en el conjunto de datos\n",
    "data = data.dropna()\n",
    "data.head()"
   ]
  },
  {
   "cell_type": "markdown",
   "id": "f73c3ac3",
   "metadata": {},
   "source": [
    "### Agrupación de datos por cliente\n",
    "\n",
    "Como nuestro objetivo es construir un modelo de segmentación de clientes, debemos agrupar nuestro conjunto de datos a nivel de cliente (actualmente se encuentra a nivel de transacción, en donde un mismo cliente puede tener múltiples compras a lo largo del tiempo registrado), por esta razón, en esta celda, agrupamos el conjunto de datos a nivel de cliente y calculamos métricas que caracterizan el comportamiento del cliente a lo largo del histórico de sus transacciones, como la diversidad de productos, la cantidad promedio comprada, el valor promedio de las transacciones, la frecuencia de compra, etc."
   ]
  },
  {
   "cell_type": "code",
   "execution_count": null,
   "id": "2894b322",
   "metadata": {},
   "outputs": [],
   "source": [
    "# Agrupación por cliente y cálculo de métricas relevantes\n",
    "clientes_df = data.groupby(['ID Cliente', 'Nombre del Cliente']).agg({\n",
    "    'Segmento de Mercado': 'first',           # Segmento de Mercado del Cliente\n",
    "    'ID Producto': 'nunique',                 # Número de productos únicos adquiridos (Diversidad de Productos)\n",
    "    'Cantidad': 'mean',                       # Cantidad promedio de productos comprados por transacción\n",
    "    'Valor': 'mean',                          # Valor promedio de las compras por transacción\n",
    "    'ID Cliente': 'count'                     # Número de compras (Frecuencia de compra)\n",
    "}).rename(columns={\n",
    "    'Segmento de Mercado': 'edad',\n",
    "    'ID Producto': 'diversidad_de_productos',\n",
    "    'Cantidad': 'promedio_de_cantidad',\n",
    "    'Valor': 'promedio_de_valor',\n",
    "    'ID Cliente': 'frecuencia_de_compra'\n",
    "}).reset_index()\n",
    "\n",
    "clientes_df.head()"
   ]
  },
  {
   "cell_type": "markdown",
   "id": "ce746bef",
   "metadata": {},
   "source": [
    "### Encoding de variables categóricas"
   ]
  },
  {
   "cell_type": "markdown",
   "id": "6edd4c8b",
   "metadata": {},
   "source": [
    "La mayoría de los algoritmos de machine learning requieren que todas las variables de entrada estén en una representación numérica. Esto significa que las variables categóricas, como el canal de venta, deben convertirse a una representación numérica para que el algoritmo de clustering pueda identificar patrones en los datos.\n",
    "\n",
    "En este caso, utilizaremos el encoding de frecuencia categórica para la variable `Canal de Venta`. Este método cuenta cuántas veces cada cliente utiliza cada canal y crea una columna para cada canal con el número de transacciones. Así, transformamos la preferencia de canal de cada cliente de un formato categórico a un formato numérico que el modelo puede interpretar, facilitando la identificación de patrones de comportamiento."
   ]
  },
  {
   "cell_type": "code",
   "execution_count": null,
   "id": "2c59cf5f",
   "metadata": {},
   "outputs": [],
   "source": [
    "# Encoding de frecuencia categórica\n",
    "clientes_df = data.groupby(['ID Cliente', 'Canal de Venta']).size().unstack(fill_value=0).reset_index().merge(clientes_df, on='ID Cliente', how='left')\n",
    "clientes_df.head()"
   ]
  },
  {
   "cell_type": "markdown",
   "id": "42156a32",
   "metadata": {},
   "source": [
    "### Selección de variables relevantes\n",
    "\n",
    "Ahora, eliminamos las columnas de identificación del cliente (ID Cliente y Nombre del Cliente). Esto se hace porque estas variables no aportan información relevante para el clustering y, al ser datos de identificación únicos, pueden introducir ruido en el modelo."
   ]
  },
  {
   "cell_type": "code",
   "execution_count": null,
   "id": "8b395a5e",
   "metadata": {},
   "outputs": [],
   "source": [
    "clientes_df = clientes_df.drop([\"ID Cliente\", \"Nombre del Cliente\"], axis=1)\n",
    "clientes_df.head()"
   ]
  },
  {
   "cell_type": "markdown",
   "id": "5a321708",
   "metadata": {},
   "source": [
    "### Normalización de las variables\n",
    "\n",
    "Por último, debemos normalizar las variables, es decir, ajustar sus valores para que todas tengan la misma escala, independientemente de sus unidades originales. Esto es fundamental para algoritmos como K-Means, que utilizan distancias para formar grupos, ya que variables con rangos más amplios podrían dominar el análisis y sesgar los resultados. La normalización asegura que todas las variables contribuyan de manera equitativa al modelo.\n",
    "\n",
    "En este caso, utilizamos StandardScaler, una técnica que transforma los datos para que cada variable tenga una media de 0 y una desviación estándar de 1. Esto garantiza que todas las variables numéricas estén en un rango comparable, independientemente de sus magnitudes originales.\n",
    "\n",
    "Además, se creó una copia del DataFrame original antes de normalizar los datos. Esto es útil para analizar los datos originales (sin escalar) una vez finalizado el proceso de clustering, ya que nos permitirá interpretar las características de los clusters asignados en términos de las variables en su escala original."
   ]
  },
  {
   "cell_type": "code",
   "execution_count": null,
   "id": "8155acbd",
   "metadata": {},
   "outputs": [],
   "source": [
    "# Crear una copia de clientes_df antes de escalar las variables\n",
    "clientes_df_original = clientes_df.copy()\n",
    "\n",
    "# Crear un objeto escalador y aplicar el escalado a todas las columnas numéricas en clientes_df\n",
    "scaler = StandardScaler()\n",
    "clientes_df[list(clientes_df.columns)] = scaler.fit_transform(clientes_df[list(clientes_df.columns)])\n",
    "\n",
    "# Visualizar las primeras filas del DataFrame final\n",
    "clientes_df.head()"
   ]
  },
  {
   "cell_type": "markdown",
   "id": "c2f9a19d",
   "metadata": {},
   "source": [
    "## Construcción del Modelo de Segmentación utilizando K-Means\n",
    "\n",
    "Para este caso utilizaremos el algoritmo K-Means para segmentar a los clientes. K-Means es un algoritmo de aprendizaje no supervisado que se utiliza para agrupar datos en un número predefinido de clusters. Funciona asignando cada punto de datos al cluster cuyo centroide (la media de todos los puntos en ese cluster) es el más cercano. El proceso sigue estos pasos:\n",
    "\n",
    "1. **Inicialización:** Selecciona al azar 'K' puntos del conjunto de datos como centroides iniciales.\n",
    "\n",
    "2. **Asignación:** Asigna cada punto de datos al centroide más cercano, basándose en la distancia euclidiana.\n",
    "\n",
    "3. **Actualización:** Recalcula los centroides como la media de todos los puntos asignados a ese cluster.\n",
    "\n",
    "4. **Iteración:** Repite los pasos de asignación y actualización hasta que los centroides no cambien significativamente entre iteraciones, indicando que el modelo ha convergido."
   ]
  },
  {
   "cell_type": "markdown",
   "id": "191a419d",
   "metadata": {},
   "source": [
    "### Búsqueda del hiperparámetro K óptimo\n",
    "\n",
    "Determinar el número adecuado de clusters (`K`) es crucial para la eficacia del modelo K-Means. Hay varias técnicas para estimar el valor óptimo de este hiperparámetro:\n",
    "\n",
    "\n",
    "#### Método del Codo\n",
    "\n",
    "Este método implica graficar los resultados de varios modelos K-Means, cada uno con un número diferente de clusters, y buscar un punto donde el aumento en el número de clusters no resulte en una mejora significativa de la varianza explicada. Esto se visualiza típicamente como un punto de \"codo\" en el gráfico, donde la curva tiene una flexión pronunciada. El eje `x` representa el número de clusters y el eje `y` el valor de la suma de los cuadrados de las distancias (inercia) de cada punto a su centroide asignado.\n",
    "\n",
    "$$\n",
    "\\text{Inercia} = \\sum_{i=1}^{n} \\min_{\\mu_j \\in C} \\left( \\| x_i - \\mu_j \\|^2 \\right)\n",
    "$$"
   ]
  },
  {
   "cell_type": "code",
   "execution_count": null,
   "id": "f497df75",
   "metadata": {},
   "outputs": [],
   "source": [
    "# Método del codo\n",
    "distortions = []\n",
    "K = range(2, 11)\n",
    "for k in K:\n",
    "    kmeans = KMeans(n_clusters=k, random_state=42)\n",
    "    kmeans.fit(clientes_df)\n",
    "    distortions.append(kmeans.inertia_)\n",
    "\n",
    "plt.figure(figsize=(10, 6))\n",
    "plt.plot(K, distortions, 'bo-')\n",
    "plt.xlabel('Número de Clusters')\n",
    "plt.ylabel('Inercia')\n",
    "plt.title('Método del Codo para Seleccionar Número de Clusters')\n",
    "plt.show()"
   ]
  },
  {
   "cell_type": "markdown",
   "id": "7cfba1db",
   "metadata": {},
   "source": [
    "En el gráfico del Método del Codo, observamos que la curva tiene una disminución pronunciada de la inercia al aumentar el número de clusters de 2 a 4 y luego se estabiliza después de 4 clusters. Esto sugiere que incrementar el número de clusters más allá de 4 no ofrece una mejora significativa en la minimización de la inercia, lo que implica que 4 podría ser una buena elección para el número de clusters."
   ]
  },
  {
   "cell_type": "markdown",
   "id": "8e035cd4",
   "metadata": {},
   "source": [
    "#### Método de la Silueta\n",
    "\n",
    "Este método evalúa la calidad de los clusters calculando el score de silueta, que mide cuán similar es un punto a los puntos en su propio cluster en comparación con puntos en otros clusters. El score de silueta oscila entre -1 y 1, donde un valor alto indica que los puntos están bien agrupados y distantes de otros clusters. Este método no solo ayuda a determinar el número óptimo de clusters, sino también a evaluar la cohesión y separación de los clusters formados.\n",
    "\n",
    "$$\n",
    "s(i) = \\frac{b(i) - a(i)}{\\max \\{ a(i), b(i) \\}}\n",
    "$$"
   ]
  },
  {
   "cell_type": "code",
   "execution_count": null,
   "id": "a8a63ea9",
   "metadata": {},
   "outputs": [],
   "source": [
    "silhouette_scores = []\n",
    "K = range(2, 11)\n",
    "for k in K:\n",
    "    kmeans = KMeans(n_clusters=k, random_state=42)\n",
    "    kmeans.fit(clientes_df)\n",
    "    score = silhouette_score(clientes_df, kmeans.labels_)\n",
    "    silhouette_scores.append(score)\n",
    "\n",
    "plt.figure(figsize=(10, 6))\n",
    "plt.plot(K, silhouette_scores, 'bo-')\n",
    "plt.xlabel('Número de Clusters')\n",
    "plt.ylabel('Puntuación de Silueta')\n",
    "plt.title('Método de la Silueta para Seleccionar Número de Clusters')\n",
    "plt.show()"
   ]
  },
  {
   "cell_type": "markdown",
   "id": "03ba4850",
   "metadata": {},
   "source": [
    "Observando el gráfico, el score de silueta alcanza su máximo en 4 clusters y disminuye progresivamente con más clusters. Esto indica que con 4 clusters, los datos están más adecuadamente segmentados en términos de similitud interna y separación externa en comparación con otros números de clusters.\n",
    "\n",
    "De esta manera, los resultados de ambos métodos, el Método del Codo y el Método de la Silueta, sugieren que 4 clusters son óptimos para este conjunto de datos $(k=4)$."
   ]
  },
  {
   "cell_type": "markdown",
   "id": "c558d7e2",
   "metadata": {},
   "source": [
    "## Construcción del Modelo de Clustering (K-Means)\n",
    "\n",
    "Una vez seleccionado el número óptimo de clusters, se construye el modelo final utilizando K-Means. A continuación, se configura y aplica el modelo K-Means al conjunto de datos preparado, utilizando 4 como el número de clusters, que se determinó como óptimo. Cada cliente en el dataframe original se etiqueta con un cluster, lo cual permite un análisis posterior detallado de las características y comportamientos de cada segmento."
   ]
  },
  {
   "cell_type": "code",
   "execution_count": null,
   "id": "6ce9895b",
   "metadata": {},
   "outputs": [],
   "source": [
    "# Aplicación de KMeans con el número óptimo de clusters determinado previamente\n",
    "kmeans = KMeans(n_clusters=4, random_state=42)\n",
    "kmeans.fit_predict(clientes_df)\n",
    "\n",
    "# Agregar las etiquetas de cluster al dataframe original para análisis posterior\n",
    "clientes_df_original['Cluster'] = kmeans.labels_\n",
    "clientes_df_original.head()"
   ]
  },
  {
   "cell_type": "markdown",
   "id": "55e9d606",
   "metadata": {},
   "source": [
    "## Análisis de los resultados obtenidos\n",
    "\n",
    "Tras aplicar el modelo K-Means y asignar cada cliente a uno de los cuatro clusters, analizamos las características principales de cada grupo. La siguiente serie de visualizaciones nos permitirá entender cómo se diferencian estos clusters en términos de comportamiento de compra, uso de canales de venta, y otros aspectos relevantes."
   ]
  },
  {
   "cell_type": "markdown",
   "id": "e16455d4",
   "metadata": {},
   "source": [
    "### Distribución de Densidad de Edad por Cluster\n",
    "\n",
    "Para analizar cómo se distribuyen las edades dentro de cada cluster, utilizaremos un gráfico KDE (Estimación de Densidad Kernel). Este tipo de visualización es particularmente útil para entender la distribución subyacente de una variable continua como la edad."
   ]
  },
  {
   "cell_type": "code",
   "execution_count": null,
   "id": "5c3afc3a",
   "metadata": {},
   "outputs": [],
   "source": [
    "# Dibujar el KDE plot\n",
    "plt.figure(figsize=(10, 6))\n",
    "kde = sns.kdeplot(data=clientes_df_original, x='edad', hue='Cluster', fill=True, common_norm=False)\n",
    "plt.title('Distribución de Densidad de Edad por Cluster')\n",
    "plt.xlabel('Edad')\n",
    "plt.ylabel('Densidad')\n",
    "plt.show()"
   ]
  },
  {
   "cell_type": "markdown",
   "id": "ab7316fa",
   "metadata": {},
   "source": [
    "La gráfica anterior permite visualizar la distribución de las edades de los clientes en cada uno de los clusters definidos. En el Cluster 1, se identifica un segmento de clientes jóvenes, cuyas edades se concentran principalmente alrededor de los 20 años. Por otro lado, el Cluster 3 engloba un rango de edad más amplio que varía de los 20 a los 50 años, con una mayor presencia de edades intermedias, especialmente los 30 y 40 años. Asimismo, el Cluster 0 se caracteriza por incluir clientes de edades comprendidas entre los 40 y 70 años. Finalmente, el Cluster 2 representa a un grupo de clientes de mayor edad, probablemente jubilados o cercanos a la jubilación, con edades que oscilan entre los 55 y 70 años, destacando especialmente individuos de 60 años."
   ]
  },
  {
   "cell_type": "markdown",
   "id": "4193c9ff",
   "metadata": {},
   "source": [
    "### Distribución de Cantidad Promedio de Productos por Cluster\n",
    "\n",
    "Esta visualización compara la cantidad promedio de productos comprados en cada transacción entre los diferentes clusters."
   ]
  },
  {
   "cell_type": "code",
   "execution_count": null,
   "id": "7ae52293",
   "metadata": {},
   "outputs": [],
   "source": [
    "# Gráfico de caja para la cantidad promedio de productos comprados por transacción en cada cluster\n",
    "plt.figure(figsize=(10, 6))\n",
    "sns.boxplot(data=clientes_df_original, x='Cluster', y='promedio_de_cantidad')\n",
    "plt.title('Distribución de Cantidad Promedio de Productos Comprados por Cluster')\n",
    "plt.ylabel(\"Cantidad promedio de productos\")\n",
    "plt.show()"
   ]
  },
  {
   "cell_type": "markdown",
   "id": "ad6d85d5",
   "metadata": {},
   "source": [
    "En la gráfica anterior, se observa la cantidad promedio de productos comprados por los clientes en cada grupo. El Cluster 0 muestra una compra moderada y uniforme de 5 productos, mientras que el Cluster 1, con la menor cantidad promedio, tiene una mediana de solo 2 productos, indicando compras enfocadas. En contraste, el Cluster 2 destaca por su alta cantidad promedio de productos comprados por transacción con una mediana de 12.6 productos por compra con una variabilidad considerable. Finalmente, el Cluster 3 presenta una mediana de 7 productos, colocándose como el segundo Cluster con mayor cantidad de productos comprados por transacción."
   ]
  },
  {
   "cell_type": "markdown",
   "id": "e5d54551",
   "metadata": {},
   "source": [
    "### Distribución de Valor Promedio por Compra por Cluster\n",
    "\n",
    "Esta visualización compara la cantidad promedio de productos comprados en cada transacción entre los diferentes clusters."
   ]
  },
  {
   "cell_type": "code",
   "execution_count": null,
   "id": "3bbfdcfa",
   "metadata": {},
   "outputs": [],
   "source": [
    "# Gráfico de caja para el valor total de las compras por transacción en cada cluster\n",
    "plt.figure(figsize=(10, 6))\n",
    "sns.boxplot(data=clientes_df_original, x='Cluster', y='promedio_de_valor')\n",
    "plt.title('Distribución de Valor Promedio por Compra por Cluster')\n",
    "plt.ylabel(\"Valor Promedio\")\n",
    "plt.show()"
   ]
  },
  {
   "cell_type": "markdown",
   "id": "6700b829",
   "metadata": {},
   "source": [
    "Esta gráfica ilustra el gasto promedio en las compras de cada cluster. El Cluster 0 muestra un gasto moderado, con una mediana de alrededor de 1.500 USD, y aunque la mayoría de las compras son de valores más bajos, algunos valores atípicos indican compras ocasionalmente más altas. Por otro lado, el Cluster 1 se caracteriza por compras de bajo valor, con una mediana cerca de 200 USD y pocos valores atípicos. En contraste, el Cluster 2 exhibe un gasto significativamente más alto por compra, con una mediana de 8.000 USD y valores que alcanzan más de $14,000, lo que lo identifica como el segmento con clientes de mayor valor, probablemente adquiriendo productos de alto precio. Finalmente, el Cluster 3, aunque con un gasto alto de una mediana de 4.000 USD, presenta variabilidad con varios outliers hacia abajo."
   ]
  },
  {
   "cell_type": "markdown",
   "id": "baca01dc",
   "metadata": {},
   "source": [
    "### Relación entre Cantidad Promedio y Valor Promedio por Cluster\n",
    "\n",
    "Este gráfico permite visualizar la relación entre la cantidad promedio de productos comprados y el valor promedio de esas compras para cada cluster."
   ]
  },
  {
   "cell_type": "code",
   "execution_count": null,
   "id": "40614a4f",
   "metadata": {},
   "outputs": [],
   "source": [
    "# Crear el gráfico de dispersión\n",
    "plt.figure(figsize=(10, 6))\n",
    "sns.scatterplot(data=clientes_df_original, x='promedio_de_cantidad', y='promedio_de_valor', hue='Cluster', style='Cluster', s=100, palette='viridis')\n",
    "\n",
    "# Añadir títulos y etiquetas\n",
    "plt.title('Relación entre Cantidad Promedio y Valor Promedio por Cluster')\n",
    "plt.xlabel('Promedio de Cantidad')\n",
    "plt.ylabel('Promedio de Valor')\n",
    "plt.legend(title='Cluster')\n",
    "\n",
    "# Mostrar el gráfico\n",
    "plt.show()"
   ]
  },
  {
   "cell_type": "markdown",
   "id": "210d8111",
   "metadata": {},
   "source": [
    "La gráfica anterior nos permite tener una visión integral de cómo la cantidad de productos comprados se relaciona con el valor promedio gastado en cada compra, distribuidos entre los diferentes clusters."
   ]
  },
  {
   "cell_type": "markdown",
   "id": "0928c594",
   "metadata": {},
   "source": [
    "### Distribución de Frecuencia de Compra por Cluster\n",
    "\n",
    "Esta visualización utiliza un histograma apilado para comparar la frecuencia de compra entre los diferentes clusters. Nos permite ver claramente cómo se distribuye la frecuencia de las compras entre los grupos y es útil para entender qué tan a menudo los clientes de cada cluster compran."
   ]
  },
  {
   "cell_type": "code",
   "execution_count": null,
   "id": "1ab2e4ce",
   "metadata": {},
   "outputs": [],
   "source": [
    "# Histograma apilado para la frecuencia de compras por cluster\n",
    "plt.figure(figsize=(10, 6))\n",
    "sns.histplot(data=clientes_df_original, x='frecuencia_de_compra', hue='Cluster', multiple='stack', bins=10)\n",
    "plt.title('Distribución de Frecuencia de Compra por Cluster')\n",
    "plt.show()"
   ]
  },
  {
   "cell_type": "markdown",
   "id": "0c197695",
   "metadata": {},
   "source": [
    "La gráfica anterior muestra cómo varía la cantidad de clientes por cluster a lo largo de diferentes frecuencias de compra. El Cluster 2 se destaca en los rangos más bajos, indicando compras esporádicas que podrían beneficiarse de incentivos para aumentar la frecuencia. El Cluster 0 tiene una presencia uniforme desde frecuencias bajas a intermedias, sugiriendo una variabilidad en el comportamiento de compra de sus clientes. En contraste, el Cluster 1 es predominante en las frecuencias intermedias y altas, mostrando un patrón de compra regular, mientras que el Cluster 3 sobresale en las frecuencias más altas, identificándose como un grupo de compradores habituales y fieles, ideales para estrategias de retención y aumento de valor a largo plazo."
   ]
  },
  {
   "cell_type": "markdown",
   "id": "ed3fb869",
   "metadata": {},
   "source": [
    "### Heatmap de Promedio de Uso de Canales de Venta por Cluster\n",
    "\n",
    "Este heatmap proporciona una visión general del uso medio de los diferentes canales de venta por cluster. Los colores más cálidos indican un uso más frecuente."
   ]
  },
  {
   "cell_type": "code",
   "execution_count": null,
   "id": "81dbdaba",
   "metadata": {},
   "outputs": [],
   "source": [
    "# Calcula el uso promedio de canales de venta por cluster y crea un heatmap\n",
    "channel_usage_summary = clientes_df_original.groupby('Cluster')[['Distribuidor', 'En Línea', 'Telefónica', 'Tienda Física']].mean().round(2)\n",
    "\n",
    "plt.figure(figsize=(8, 6))\n",
    "sns.heatmap(channel_usage_summary, annot=True, cmap=\"YlGnBu\", cbar_kws={'label': 'Promedio de Compras'})\n",
    "plt.title('Heatmap de Promedio de Uso de Canales de Venta por Cluster')\n",
    "plt.xlabel('Canal de Venta')\n",
    "plt.ylabel('Cluster')\n",
    "plt.show()"
   ]
  },
  {
   "cell_type": "markdown",
   "id": "8ab192a3",
   "metadata": {},
   "source": [
    "Esta gráfica nos ofrece una visión clara de las preferencias de canales de venta de diferentes grupos de clientes. En el Cluster 0, hay un predominio en el uso de Tienda Física y Telefónica. El Cluster 1 muestra una fuerte preferencia por el canal En Línea, con un uso significativamente menor de Tienda Física y Telefónica, destacando la valoración de la autonomía en el proceso de compra. Por otro lado, el Cluster 2 prefiere el canal Distribuidor, sugiriendo una inclinación hacia compras a través de intermediarios, posiblemente en formatos de venta al por mayor. Finalmente, el Cluster 3 combina una fuerte preferencia por Tienda Física y En Línea, evidenciando un comportamiento de compra híbrido con un uso moderado de Telefónica y Distribuidor, lo que indica una diversidad en los métodos de compra con una clara inclinación hacia la interacción directa antes de realizar una compra."
   ]
  },
  {
   "cell_type": "markdown",
   "id": "b773826c",
   "metadata": {},
   "source": [
    "## Caracterización final de los Clusters Obtenidos\n",
    "\n",
    "A partir de los resultados obtenidos anteriormente, podemos realizar un perfilamiento de los Clusters obtenidos.\n",
    "\n",
    "### Cluster 0: Cliente Maduro y Moderado\n",
    "* **Edad:** 40 a 70 años.\n",
    "* **Comportamiento de compra:** Moderado con una mediana de 5 productos por transacción y un gasto medio de 1.500 USD.\n",
    "* **Frecuencia de compra:** Variabilidad desde baja a intermedia.\n",
    "* **Canal de venta preferido:** Tienda física y telefónica, lo que indica un enfoque en la interacción personal y la consulta directa antes de comprar.\n",
    "\n",
    "### Cluster 1: Cliente Joven y Digital\n",
    "* **Edad:** Concentración alrededor de los 20 años.\n",
    "* **Comportamiento de compra:** Compras enfocadas con una mediana de 2 productos y gasto bajo de cerca de 200 USD.\n",
    "* **Frecuencia de compra:** Alta, con un patrón de compra regular.\n",
    "* **Canal de venta preferido:** En línea, destacando un enfoque hacia la autonomía y comodidad del comercio electrónico.\n",
    "\n",
    "### Cluster 2: Cliente Sénior de Alto Valor\n",
    "* **Edad:** 55 a 70 años, con un pico en 60 años.\n",
    "* **Comportamiento de compra:** Alta cantidad de productos por compra (mediana de 12.6 productos) con el mayor gasto promedio por transacción (mediana de 8.000 USD).\n",
    "* **Frecuencia de compra:** Baja, con compras esporádicas que podrían ser grandes adquisiciones.\n",
    "* **Canal de venta preferido:** Distribuidor, indicando una preferencia por compras posiblemente al por mayor o de alto valor a través de intermediarios.\n",
    "\n",
    "### Cluster 3: Cliente Adulto y Leal\n",
    "* **Edad:** 20 a 50 años, con una mayor presencia en los 30 y 40 años.\n",
    "* **Comportamiento de compra:** Buena cantidad de productos (mediana de 7 productos) con un gasto considerable (mediana de 4.000 USD).\n",
    "* **Frecuencia de compra:** Alta, mostrando lealtad y habitualidad en sus compras.\n",
    "* **Canal de venta preferido:** Combinación de tienda física y en línea, sugiriendo un comportamiento híbrido que valoriza tanto la experiencia en tienda como la comodidad del comercio electrónico."
   ]
  }
 ],
 "metadata": {
  "kernelspec": {
   "display_name": "Python 3 (ipykernel)",
   "language": "python",
   "name": "python3"
  },
  "language_info": {
   "codemirror_mode": {
    "name": "ipython",
    "version": 3
   },
   "file_extension": ".py",
   "mimetype": "text/x-python",
   "name": "python",
   "nbconvert_exporter": "python",
   "pygments_lexer": "ipython3",
   "version": "3.11.5"
  }
 },
 "nbformat": 4,
 "nbformat_minor": 5
}
