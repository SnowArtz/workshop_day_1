{
  "cells": [
    {
      "cell_type": "markdown",
      "source": [
        "# Taller de Inteligencia Artificial: Optimización de Costos\n",
        "En este taller, continuando con la estructura anterior, nos enfocaremos en cómo aplicar técnicas analíticas y estadísticas para optimizar costos en una empresa. Utilizaremos el mismo conjunto de datos artificiales generado anteriormente, que simula transacciones de clientes, para identificar productos que tienen menor impacto en las ventas y sugerir su remoción.\n",
        "\n",
        "Nuestro objetivo es:\n",
        "\n",
        "- Eliminar datos duplicados y vacíos para garantizar la calidad de los datos.\n",
        "- Analizar y explorar los datos para comprender el comportamiento de las ventas y los costos asociados.\n",
        "- Desarrollar un modelo analítico que identifique los productos menos rentables o con menor impacto en las ventas.\n",
        "- Proporcionar visualizaciones que faciliten la comprensión de los resultados."
      ],
      "metadata": {
        "nteract": {
          "transient": {
            "deleting": false
          }
        }
      }
    },
    {
      "cell_type": "markdown",
      "source": [
        "## 1. Preparación del Entorno\n",
        "### 1.1. Importación de Librerías Necesarias\n",
        "En esta sección, prepararemos el entorno de trabajo importando las librerías necesarias y cargando el conjunto de datos desde un archivo CSV. De igual manera instalaremos la librerías y dependencias necesarias en caso de ser necesario"
      ],
      "metadata": {
        "nteract": {
          "transient": {
            "deleting": false
          }
        }
      }
    },
    {
      "cell_type": "code",
      "source": [
        "#!pip install seaborn"
      ],
      "outputs": [],
      "execution_count": null,
      "metadata": {
        "jupyter": {
          "source_hidden": false,
          "outputs_hidden": false
        },
        "nteract": {
          "transient": {
            "deleting": false
          }
        },
        "gather": {
          "logged": 1732703970779
        }
      }
    },
    {
      "cell_type": "code",
      "source": [
        "# Importamos las librerías necesarias\n",
        "import pandas as pd\n",
        "import numpy as np\n",
        "import random\n",
        "from datetime import datetime, timedelta\n",
        "import matplotlib.pyplot as plt\n",
        "import seaborn as sns\n",
        "\n"
      ],
      "outputs": [],
      "execution_count": null,
      "metadata": {
        "gather": {
          "logged": 1732706136678
        }
      }
    },
    {
      "cell_type": "markdown",
      "source": [
        "### 1.2. Carga del Conjunto de Datos\n",
        "Cargamos el archivo CSV que contiene los datos de las transacciones. Asegúrate de que el archivo datos_transacciones.csv esté en el mismo directorio que este notebook o especifica la ruta correcta."
      ],
      "metadata": {
        "nteract": {
          "transient": {
            "deleting": false
          }
        }
      }
    },
    {
      "cell_type": "code",
      "source": [
        "# Cargamos el conjunto de datos desde un archivo CSV\n",
        "df = pd.read_csv('./data/taller_2_datos_transacciones.csv')\n",
        "\n",
        "# Visualizamos las primeras filas del DataFrame\n",
        "df.head()\n"
      ],
      "outputs": [],
      "execution_count": null,
      "metadata": {
        "jupyter": {
          "source_hidden": false,
          "outputs_hidden": false
        },
        "nteract": {
          "transient": {
            "deleting": false
          }
        },
        "gather": {
          "logged": 1732706137766
        }
      }
    },
    {
      "cell_type": "markdown",
      "source": [
        "## 2. Preprocesamiento de Datos\n",
        "Realizaremos la limpieza de los datos, eliminando duplicados y valores vacíos para asegurar la calidad del conjunto de datos.\n",
        "\n",
        "### 2.1. Verificación y Eliminación de Datos Vacíos\n",
        "\n",
        "Comprobamos si existen valores nulos en el DataFrame y los eliminamos si es necesario. Es importante eliminar o imputar valores nulos para evitar problemas en el análisis posterior.\n",
        "\n"
      ],
      "metadata": {
        "nteract": {
          "transient": {
            "deleting": false
          }
        }
      }
    },
    {
      "cell_type": "code",
      "source": [
        "# Verificamos si existen valores nulos en el DataFrame\n",
        "print(\"Valores nulos antes de la limpieza:\")\n",
        "print(df.isnull().sum())\n",
        "\n",
        "# Eliminamos filas con valores nulos (en este caso, no debería haber)\n",
        "df = df.dropna()\n",
        "\n",
        "# Verificamos nuevamente\n",
        "print(\"Valores nulos después de la limpieza:\")\n",
        "print(df.isnull().sum())\n"
      ],
      "outputs": [],
      "execution_count": null,
      "metadata": {
        "jupyter": {
          "source_hidden": false,
          "outputs_hidden": false
        },
        "nteract": {
          "transient": {
            "deleting": false
          }
        },
        "gather": {
          "logged": 1732706141494
        }
      }
    },
    {
      "cell_type": "markdown",
      "source": [
        "### 2.2. Verificación y Eliminación de Datos Duplicados\n",
        "Identificamos y eliminamos filas duplicadas para evitar redundancias en los datos. Los datos duplicados pueden sesgar los resultados del análisis, por lo que es esencial eliminarlos."
      ],
      "metadata": {
        "nteract": {
          "transient": {
            "deleting": false
          }
        }
      }
    },
    {
      "cell_type": "code",
      "source": [
        "# Verificamos si existen filas duplicadas\n",
        "duplicados = df.duplicated().sum()\n",
        "print(f\"Filas duplicadas antes de la limpieza: {duplicados}\")\n",
        "\n",
        "# Eliminamos filas duplicadas\n",
        "df = df.drop_duplicates()\n",
        "\n",
        "# Verificamos nuevamente\n",
        "duplicados = df.duplicated().sum()\n",
        "print(f\"Filas duplicadas después de la limpieza: {duplicados}\")\n"
      ],
      "outputs": [],
      "execution_count": null,
      "metadata": {
        "jupyter": {
          "source_hidden": false,
          "outputs_hidden": false
        },
        "nteract": {
          "transient": {
            "deleting": false
          }
        },
        "gather": {
          "logged": 1732706144094
        }
      }
    },
    {
      "cell_type": "markdown",
      "source": [
        "## 3. Análisis y Exploración de Datos\n",
        "Realizaremos un análisis exploratorio para comprender mejor el comportamiento de las ventas y los costos asociados a cada producto.\n",
        "\n",
        "### 3.1. Análisis de Ventas por Producto\n",
        "\n",
        "Calculamos y visualizamos las ventas totales por producto. Esto nos permite identificar los productos más vendidos y aquellos con menor participación en las ventas totales. Esto nos permite identificar los productos más vendidos y aquellos con menor participación en las ventas totales"
      ],
      "metadata": {
        "nteract": {
          "transient": {
            "deleting": false
          }
        }
      }
    },
    {
      "cell_type": "code",
      "source": [
        "# Calculamos las ventas totales por producto\n",
        "ventas_por_producto = df.groupby('Nombre del Producto')['Valor'].sum().sort_values(ascending=False)\n",
        "\n",
        "# Visualizamos las ventas por producto\n",
        "plt.figure(figsize=(12, 6))\n",
        "ventas_por_producto.plot(kind='bar', color='skyblue')\n",
        "plt.title('Ventas Totales por Producto')\n",
        "plt.xlabel('Producto')\n",
        "plt.ylabel('Ventas Totales')\n",
        "plt.xticks(rotation=90)\n",
        "plt.tight_layout()\n",
        "plt.show()\n"
      ],
      "outputs": [],
      "execution_count": null,
      "metadata": {
        "jupyter": {
          "source_hidden": false,
          "outputs_hidden": false
        },
        "nteract": {
          "transient": {
            "deleting": false
          }
        },
        "gather": {
          "logged": 1732706147110
        }
      }
    },
    {
      "cell_type": "markdown",
      "source": [
        "### 3.2. Análisis de Costos por Producto\n",
        "\n",
        "Calculamos y visualizamos los costos totales por producto. Nos ayuda a entender cuánto cuesta mantener cada producto y cómo se compara con las ventas generadas. Nos ayuda a entender cuánto cuesta mantener cada producto y cómo se compara con las ventas generadas."
      ],
      "metadata": {
        "nteract": {
          "transient": {
            "deleting": false
          }
        }
      }
    },
    {
      "cell_type": "code",
      "source": [
        "# Calculamos los costos totales por producto\n",
        "costos_por_producto = df.groupby('Nombre del Producto')['Costo'].sum().sort_values(ascending=False)\n",
        "\n",
        "# Visualizamos los costos por producto\n",
        "plt.figure(figsize=(12, 6))\n",
        "costos_por_producto.plot(kind='bar', color='salmon')\n",
        "plt.title('Costos Totales por Producto')\n",
        "plt.xlabel('Producto')\n",
        "plt.ylabel('Costos Totales')\n",
        "plt.xticks(rotation=90)\n",
        "plt.tight_layout()\n",
        "plt.show()\n"
      ],
      "outputs": [],
      "execution_count": null,
      "metadata": {
        "jupyter": {
          "source_hidden": false,
          "outputs_hidden": false
        },
        "nteract": {
          "transient": {
            "deleting": false
          }
        },
        "gather": {
          "logged": 1732706150223
        }
      }
    },
    {
      "cell_type": "markdown",
      "source": [
        "### 3.3. Análisis de Rentabilidad por Producto\n",
        "Calculamos y visualizamos la rentabilidad por producto. La rentabilidad es un indicador clave para determinar qué productos aportan más ganancias al negocio."
      ],
      "metadata": {
        "nteract": {
          "transient": {
            "deleting": false
          }
        }
      }
    },
    {
      "cell_type": "code",
      "source": [
        "# Calculamos la rentabilidad (Ingresos - Costos) por producto\n",
        "rentabilidad_por_producto = ventas_por_producto - costos_por_producto\n",
        "\n",
        "# Visualizamos la rentabilidad por producto\n",
        "plt.figure(figsize=(12, 6))\n",
        "rentabilidad_por_producto.plot(kind='bar', color='lightgreen')\n",
        "plt.title('Rentabilidad por Producto')\n",
        "plt.xlabel('Producto')\n",
        "plt.ylabel('Rentabilidad')\n",
        "plt.xticks(rotation=90)\n",
        "plt.tight_layout()\n",
        "plt.show()\n"
      ],
      "outputs": [],
      "execution_count": null,
      "metadata": {
        "jupyter": {
          "source_hidden": false,
          "outputs_hidden": false
        },
        "nteract": {
          "transient": {
            "deleting": false
          }
        },
        "gather": {
          "logged": 1732706153109
        }
      }
    },
    {
      "cell_type": "markdown",
      "source": [
        "## 4. Modelo Analítico para Optimización de Costos\n",
        "En esta sección, desarrollaremos un modelo analítico y estadístico para identificar los productos que tienen menor impacto en las ventas y sugerir su remoción para optimizar costos.\n",
        "\n",
        "### 4.1. Identificación de Productos con Menor Impacto\n",
        "#### 4.1.1. Productos con Menores Ventas\n",
        "Identificamos los productos con las ventas totales más bajas. Estos productos pueden ser candidatos para reevaluación o remoción debido a su baja contribución en ventas."
      ],
      "metadata": {
        "nteract": {
          "transient": {
            "deleting": false
          }
        }
      }
    },
    {
      "cell_type": "code",
      "source": [
        "# Obtenemos los productos con menores ventas totales\n",
        "productos_menores_ventas = ventas_por_producto.tail(5)\n",
        "\n",
        "print(\"Productos con menores ventas totales:\")\n",
        "print(productos_menores_ventas)\n"
      ],
      "outputs": [],
      "execution_count": null,
      "metadata": {
        "jupyter": {
          "source_hidden": false,
          "outputs_hidden": false
        },
        "nteract": {
          "transient": {
            "deleting": false
          }
        },
        "gather": {
          "logged": 1732706156031
        }
      }
    },
    {
      "cell_type": "markdown",
      "source": [
        "#### 4.1.2. Productos con Menor Rentabilidad\n",
        "Identificamos los productos menos rentables. Productos con baja o negativa rentabilidad afectan directamente las ganancias de la empresa."
      ],
      "metadata": {
        "nteract": {
          "transient": {
            "deleting": false
          }
        }
      }
    },
    {
      "cell_type": "code",
      "source": [
        "# Obtenemos los productos con menor rentabilidad\n",
        "productos_menor_rentabilidad = rentabilidad_por_producto.sort_values().head(5)\n",
        "\n",
        "print(\"Productos con menor rentabilidad:\")\n",
        "print(productos_menor_rentabilidad)\n"
      ],
      "outputs": [],
      "execution_count": null,
      "metadata": {
        "jupyter": {
          "source_hidden": false,
          "outputs_hidden": false
        },
        "nteract": {
          "transient": {
            "deleting": false
          }
        },
        "gather": {
          "logged": 1732706158427
        }
      }
    },
    {
      "cell_type": "markdown",
      "source": [
        "#### 4.1.3. Visualización de Productos con Menor Impacto\n",
        "Visualizamos los productos con menores ventas y rentabilidad. Las gráficas nos permiten identificar visualmente los productos menos performantes."
      ],
      "metadata": {
        "nteract": {
          "transient": {
            "deleting": false
          }
        }
      }
    },
    {
      "cell_type": "code",
      "source": [
        "# Visualizamos los productos con menores ventas\n",
        "plt.figure(figsize=(8, 6))\n",
        "productos_menores_ventas.plot(kind='barh', color='orange')\n",
        "plt.title('Productos con Menores Ventas Totales')\n",
        "plt.xlabel('Ventas Totales')\n",
        "plt.ylabel('Producto')\n",
        "plt.tight_layout()\n",
        "plt.show()\n",
        "\n",
        "# Visualizamos los productos con menor rentabilidad\n",
        "plt.figure(figsize=(8, 6))\n",
        "productos_menor_rentabilidad.plot(kind='barh', color='red')\n",
        "plt.title('Productos con Menor Rentabilidad')\n",
        "plt.xlabel('Rentabilidad')\n",
        "plt.ylabel('Producto')\n",
        "plt.tight_layout()\n",
        "plt.show()\n"
      ],
      "outputs": [],
      "execution_count": null,
      "metadata": {
        "jupyter": {
          "source_hidden": false,
          "outputs_hidden": false
        },
        "nteract": {
          "transient": {
            "deleting": false
          }
        },
        "gather": {
          "logged": 1732706161042
        }
      }
    },
    {
      "cell_type": "markdown",
      "source": [
        "#### 4.1.4. Análisis de la Contribución de los Productos - Análisis de Pareto de Ventas\n",
        "Realizaremos un análisis de Pareto (80/20) para identificar qué productos generan la mayor parte de las ventas y cuáles contribuyen menos. "
      ],
      "metadata": {
        "nteract": {
          "transient": {
            "deleting": false
          }
        }
      }
    },
    {
      "cell_type": "code",
      "source": [
        "# Ordenamos las ventas por producto de mayor a menor\n",
        "ventas_ordenadas = ventas_por_producto.sort_values(ascending=False)\n",
        "\n",
        "# Calculamos el porcentaje acumulado de ventas\n",
        "porcentaje_acumulado = ventas_ordenadas.cumsum() / ventas_ordenadas.sum() * 100\n",
        "\n",
        "# Visualizamos el análisis de Pareto\n",
        "plt.figure(figsize=(12, 6))\n",
        "fig, ax = plt.subplots()\n",
        "ax.bar(ventas_ordenadas.index, ventas_ordenadas.values, color='skyblue')\n",
        "ax2 = ax.twinx()\n",
        "ax2.plot(ventas_ordenadas.index, porcentaje_acumulado.values, color='red', marker='D', ms=7)\n",
        "ax.set_xlabel('Producto')\n",
        "ax.set_ylabel('Ventas Totales')\n",
        "ax2.set_ylabel('Porcentaje Acumulado (%)')\n",
        "plt.title('Análisis de Pareto de Ventas por Producto')\n",
        "ax.tick_params(axis='x', rotation=90)\n",
        "plt.tight_layout()\n",
        "plt.show()\n"
      ],
      "outputs": [],
      "execution_count": null,
      "metadata": {
        "jupyter": {
          "source_hidden": false,
          "outputs_hidden": false
        },
        "nteract": {
          "transient": {
            "deleting": false
          }
        },
        "gather": {
          "logged": 1732706165597
        }
      }
    },
    {
      "cell_type": "markdown",
      "source": [
        "#### 4.1.5 Identificación de Productos de Baja Contribución\n",
        "Estos productos tienen una contribución marginal en las ventas totales y podrían ser reevaluados."
      ],
      "metadata": {
        "nteract": {
          "transient": {
            "deleting": false
          }
        }
      }
    },
    {
      "cell_type": "code",
      "source": [
        "# Combinar las listas de productos con menor rentabilidad y baja contribución\n",
        "productos_a_considerar = set(productos_menor_rentabilidad.index).union(set(productos_menor_rentabilidad))\n",
        "\n",
        "print(\"Productos sugeridos para remoción o reevaluación:\")\n",
        "print(list(productos_a_considerar))\n"
      ],
      "outputs": [],
      "execution_count": null,
      "metadata": {
        "jupyter": {
          "source_hidden": false,
          "outputs_hidden": false
        },
        "nteract": {
          "transient": {
            "deleting": false
          }
        },
        "gather": {
          "logged": 1732706191646
        }
      }
    },
    {
      "cell_type": "markdown",
      "source": [
        "### 4.2. Análisis de Regresión para Predicción de Rentabilidad\n",
        "En esta sección, desarrollaremos un modelo de regresión lineal múltiple para predecir la rentabilidad de los productos en función de varias características. Esto nos permitirá entender qué variables influyen más en la rentabilidad y predecir el desempeño de productos nuevos o existentes.\n",
        "\n",
        "#### 4.2.1. Preparación de Datos para el Modelo de Regresión\n",
        "Antes de entrenar el modelo, debemos preparar los datos, seleccionando las variables relevantes y transformando las variables categóricas en numéricas."
      ],
      "metadata": {
        "nteract": {
          "transient": {
            "deleting": false
          }
        }
      }
    },
    {
      "cell_type": "code",
      "source": [
        "# Seleccionamos las características relevantes\n",
        "caracteristicas = ['Cantidad', 'Valor', 'Costo', 'Canal de Venta', 'Segmento de Mercado', 'Preferencias del Cliente']\n",
        "\n",
        "# Creamos un DataFrame con las características y la variable objetivo (Rentabilidad)\n",
        "df_modelo = df[caracteristicas].copy()\n",
        "\n",
        "# Calculamos la rentabilidad (Valor - Costo)\n",
        "df_modelo['Rentabilidad'] = df['Valor'] - df['Costo']\n",
        "\n",
        "# Transformamos variables categóricas en numéricas utilizando One-Hot Encoding\n",
        "df_modelo_encoded = pd.get_dummies(df_modelo, columns=['Canal de Venta', 'Segmento de Mercado', 'Preferencias del Cliente'])\n",
        "\n",
        "# Visualizamos las primeras filas del DataFrame preparado\n",
        "df_modelo_encoded.head()\n"
      ],
      "outputs": [],
      "execution_count": null,
      "metadata": {
        "jupyter": {
          "source_hidden": false,
          "outputs_hidden": false
        },
        "nteract": {
          "transient": {
            "deleting": false
          }
        },
        "gather": {
          "logged": 1732706198961
        }
      }
    },
    {
      "cell_type": "markdown",
      "source": [
        "#### 4.2.2. División de Datos en Conjuntos de Entrenamiento y Prueba\n",
        "Dividimos los datos en conjuntos de entrenamiento y prueba para evaluar el rendimiento del modelo."
      ],
      "metadata": {
        "nteract": {
          "transient": {
            "deleting": false
          }
        }
      }
    },
    {
      "cell_type": "code",
      "source": [
        "from sklearn.model_selection import train_test_split\n",
        "\n",
        "# Definimos las características (X) y la variable objetivo (y)\n",
        "X = df_modelo_encoded.drop('Rentabilidad', axis=1)\n",
        "y = df_modelo_encoded['Rentabilidad']\n",
        "\n",
        "# Dividimos los datos\n",
        "X_train, X_test, y_train, y_test = train_test_split(X, y, test_size=0.3, random_state=42)\n"
      ],
      "outputs": [],
      "execution_count": null,
      "metadata": {
        "jupyter": {
          "source_hidden": false,
          "outputs_hidden": false
        },
        "nteract": {
          "transient": {
            "deleting": false
          }
        },
        "gather": {
          "logged": 1732706202610
        }
      }
    },
    {
      "cell_type": "markdown",
      "source": [
        "#### 4.2.3. Entrenamiento del Modelo de Regresión Lineal\n",
        "Entrenamos un modelo de regresión lineal múltiple utilizando los datos de entrenamiento"
      ],
      "metadata": {
        "nteract": {
          "transient": {
            "deleting": false
          }
        }
      }
    },
    {
      "cell_type": "code",
      "source": [
        "from sklearn.linear_model import LinearRegression\n",
        "\n",
        "# Creamos y entrenamos el modelo\n",
        "modelo_regresion = LinearRegression()\n",
        "modelo_regresion.fit(X_train, y_train)\n"
      ],
      "outputs": [],
      "execution_count": null,
      "metadata": {
        "jupyter": {
          "source_hidden": false,
          "outputs_hidden": false
        },
        "nteract": {
          "transient": {
            "deleting": false
          }
        },
        "gather": {
          "logged": 1732706204739
        }
      }
    },
    {
      "cell_type": "markdown",
      "source": [
        "#### 4.2.4 Evaluación del Modelo de Regresión\n",
        "Evaluamos el rendimiento del modelo utilizando métricas como el R-cuadrado y el error cuadrático medio."
      ],
      "metadata": {
        "nteract": {
          "transient": {
            "deleting": false
          }
        }
      }
    },
    {
      "cell_type": "code",
      "source": [
        "from sklearn.metrics import r2_score, mean_squared_error\n",
        "\n",
        "# Realizamos predicciones en el conjunto de prueba\n",
        "y_pred = modelo_regresion.predict(X_test)\n",
        "\n",
        "# Calculamos las métricas\n",
        "r2 = r2_score(y_test, y_pred)\n",
        "rmse = np.sqrt(mean_squared_error(y_test, y_pred))\n",
        "\n",
        "print(f\"Coeficiente de determinación (R^2): {r2:.2f}\")\n",
        "print(f\"Raíz del Error Cuadrático Medio (RMSE): {rmse:.2f}\")\n"
      ],
      "outputs": [],
      "execution_count": null,
      "metadata": {
        "jupyter": {
          "source_hidden": false,
          "outputs_hidden": false
        },
        "nteract": {
          "transient": {
            "deleting": false
          }
        },
        "gather": {
          "logged": 1732706206678
        }
      }
    },
    {
      "cell_type": "markdown",
      "source": [
        "### 4.3. Análisis de Clústeres para Agrupación de Productos\n",
        "En esta sección, aplicaremos técnicas de clustering para agrupar productos basados en características como ventas, costos y rentabilidad. Esto nos permitirá identificar grupos de productos con comportamientos similares y tomar acciones específicas.\n",
        "\n",
        "#### 4.3.1. Preparación de Datos para Clustering\n",
        "Preparamos los datos agregando información a nivel de producto y normalizando las variables."
      ],
      "metadata": {
        "nteract": {
          "transient": {
            "deleting": false
          }
        }
      }
    },
    {
      "cell_type": "code",
      "source": [
        "# Calculamos ventas totales, costos totales y rentabilidad por producto\n",
        "datos_productos = df.groupby('Nombre del Producto').agg({\n",
        "    'Valor': 'sum',\n",
        "    'Costo': 'sum',\n",
        "    'Cantidad': 'sum'\n",
        "}).rename(columns={'Valor': 'Ventas Totales', 'Costo': 'Costos Totales', 'Cantidad': 'Cantidad Vendida'})\n",
        "\n",
        "# Calculamos la rentabilidad\n",
        "datos_productos['Rentabilidad'] = datos_productos['Ventas Totales'] - datos_productos['Costos Totales']\n",
        "\n",
        "# Visualizamos los datos\n",
        "datos_productos.head()\n"
      ],
      "outputs": [],
      "execution_count": null,
      "metadata": {
        "jupyter": {
          "source_hidden": false,
          "outputs_hidden": false
        },
        "nteract": {
          "transient": {
            "deleting": false
          }
        },
        "gather": {
          "logged": 1732706209131
        }
      }
    },
    {
      "cell_type": "markdown",
      "source": [
        "#### 4.3.2. Normalización de las Variables\n",
        "Normalizamos las variables para que todas tengan la misma escala, lo cual es necesario para los algoritmos de clustering."
      ],
      "metadata": {
        "nteract": {
          "transient": {
            "deleting": false
          }
        }
      }
    },
    {
      "cell_type": "code",
      "source": [
        "from sklearn.preprocessing import StandardScaler\n",
        "\n",
        "# Seleccionamos las características para el clustering\n",
        "caracteristicas_clustering = ['Ventas Totales', 'Costos Totales', 'Cantidad Vendida', 'Rentabilidad']\n",
        "\n",
        "# Aplicamos la normalización\n",
        "scaler = StandardScaler()\n",
        "datos_normalizados = scaler.fit_transform(datos_productos[caracteristicas_clustering])\n",
        "\n",
        "# Convertimos a DataFrame\n",
        "datos_normalizados = pd.DataFrame(datos_normalizados, index=datos_productos.index, columns=caracteristicas_clustering)\n",
        "\n",
        "# Visualizamos los datos normalizados\n",
        "datos_normalizados.head()\n"
      ],
      "outputs": [],
      "execution_count": null,
      "metadata": {
        "jupyter": {
          "source_hidden": false,
          "outputs_hidden": false
        },
        "nteract": {
          "transient": {
            "deleting": false
          }
        },
        "gather": {
          "logged": 1732706211265
        }
      }
    },
    {
      "cell_type": "markdown",
      "source": [
        "#### 4.3.3. Determinación del Número Óptimo de Clústeres\n",
        "Utilizamos el método del codo (Elbow Method) para determinar el número óptimo de clústeres. El punto donde la disminución del SSE se vuelve menos pronunciada indica el número óptimo de clústeres."
      ],
      "metadata": {
        "nteract": {
          "transient": {
            "deleting": false
          }
        }
      }
    },
    {
      "cell_type": "code",
      "source": [
        "from sklearn.cluster import KMeans\n",
        "\n",
        "# Lista para almacenar la suma de errores cuadráticos (SSE) para cada número de clústeres\n",
        "sse = []\n",
        "\n",
        "# Probamos con diferentes números de clústeres\n",
        "K = range(1, 10)\n",
        "for k in K:\n",
        "    kmeans = KMeans(n_clusters=k, random_state=42)\n",
        "    kmeans.fit(datos_normalizados)\n",
        "    sse.append(kmeans.inertia_)\n",
        "\n",
        "# Visualizamos el gráfico del método del codo\n",
        "plt.figure(figsize=(8, 6))\n",
        "plt.plot(K, sse, marker='o')\n",
        "plt.title('Método del Codo para Determinar el Número Óptimo de Clústeres')\n",
        "plt.xlabel('Número de Clústeres')\n",
        "plt.ylabel('SSE')\n",
        "plt.xticks(K)\n",
        "plt.grid(True)\n",
        "plt.show()\n"
      ],
      "outputs": [],
      "execution_count": null,
      "metadata": {
        "jupyter": {
          "source_hidden": false,
          "outputs_hidden": false
        },
        "nteract": {
          "transient": {
            "deleting": false
          }
        },
        "gather": {
          "logged": 1732706214297
        }
      }
    },
    {
      "cell_type": "markdown",
      "source": [
        "#### 4.3.4. Aplicación del Algoritmo de Clustering\n",
        "Basándonos en el gráfico anterior, seleccionamos el número de clústeres y aplicamos K-Means."
      ],
      "metadata": {
        "nteract": {
          "transient": {
            "deleting": false
          }
        }
      }
    },
    {
      "cell_type": "code",
      "source": [
        "# Suponiendo que el número óptimo de clústeres es 3\n",
        "k_optimo = 3\n",
        "\n",
        "# Creamos y ajustamos el modelo K-Means\n",
        "kmeans = KMeans(n_clusters=k_optimo, random_state=42)\n",
        "kmeans.fit(datos_normalizados)\n",
        "\n",
        "# Asignamos los clústeres a los productos\n",
        "datos_productos['Cluster'] = kmeans.labels_\n",
        "\n",
        "# Visualizamos los productos con sus clústeres\n",
        "datos_productos.head()\n"
      ],
      "outputs": [],
      "execution_count": null,
      "metadata": {
        "jupyter": {
          "source_hidden": false,
          "outputs_hidden": false
        },
        "nteract": {
          "transient": {
            "deleting": false
          }
        },
        "gather": {
          "logged": 1732706216661
        }
      }
    },
    {
      "cell_type": "markdown",
      "source": [
        "#### 4.3.5. Análisis de los Clústeres\n",
        "Analizamos las características de cada clúster para entender los patrones y comportamientos."
      ],
      "metadata": {
        "nteract": {
          "transient": {
            "deleting": false
          }
        }
      }
    },
    {
      "cell_type": "code",
      "source": [
        "# Calculamos estadísticas descriptivas por clúster\n",
        "estadisticas_cluster = datos_productos.groupby('Cluster').mean()\n",
        "\n",
        "# Visualizamos las estadísticas\n",
        "estadisticas_cluster\n"
      ],
      "outputs": [],
      "execution_count": null,
      "metadata": {
        "jupyter": {
          "source_hidden": false,
          "outputs_hidden": false
        },
        "nteract": {
          "transient": {
            "deleting": false
          }
        },
        "gather": {
          "logged": 1732706218659
        }
      }
    },
    {
      "cell_type": "markdown",
      "source": [
        "#### 4.3.6. Visualización de los Clústeres\n",
        "Utilizamos gráficos para visualizar los clústeres y sus características."
      ],
      "metadata": {
        "nteract": {
          "transient": {
            "deleting": false
          }
        }
      }
    },
    {
      "cell_type": "code",
      "source": [
        "# Visualización en dos dimensiones utilizando PCA\n",
        "from sklearn.decomposition import PCA\n",
        "\n",
        "# Reducimos la dimensionalidad a 2 componentes principales\n",
        "pca = PCA(n_components=2)\n",
        "componentes_pca = pca.fit_transform(datos_normalizados)\n",
        "\n",
        "# Convertimos a DataFrame\n",
        "df_pca = pd.DataFrame(data=componentes_pca, columns=['Componente 1', 'Componente 2'], index=datos_productos.index)\n",
        "\n",
        "# Agregamos los clústeres\n",
        "df_pca['Cluster'] = datos_productos['Cluster']\n",
        "\n",
        "# Visualizamos los clústeres\n",
        "plt.figure(figsize=(8, 6))\n",
        "sns.scatterplot(data=df_pca, x='Componente 1', y='Componente 2', hue='Cluster', palette='Set1', s=100)\n",
        "plt.title('Visualización de Clústeres con PCA')\n",
        "plt.xlabel('Componente Principal 1')\n",
        "plt.ylabel('Componente Principal 2')\n",
        "plt.legend(title='Clúster')\n",
        "plt.show()\n"
      ],
      "outputs": [],
      "execution_count": null,
      "metadata": {
        "jupyter": {
          "source_hidden": false,
          "outputs_hidden": false
        },
        "nteract": {
          "transient": {
            "deleting": false
          }
        },
        "gather": {
          "logged": 1732706220847
        }
      }
    },
    {
      "cell_type": "markdown",
      "source": [
        "#### 4.3.7. Interpretación y Uso de los Clústeres para la Toma de Decisiones\n",
        "Interpretamos cada clúster y sugerimos acciones específicas.\n",
        "\n",
        "- **Clúster 0**: Productos con altas ventas y rentabilidad. Se recomienda mantener y potenciar estos productos.\n",
        "- **Clúster 1**: Productos con ventas y rentabilidad medias. Se puede considerar estrategias para mejorar su desempeño.\n",
        "- **Clúster 2**: Productos con bajas ventas y rentabilidad. Candidatos para remoción o reevaluación."
      ],
      "metadata": {
        "nteract": {
          "transient": {
            "deleting": false
          }
        }
      }
    },
    {
      "cell_type": "code",
      "source": [
        "# Listamos los productos en el clúster de bajo rendimiento\n",
        "productos_bajo_rendimiento = datos_productos[datos_productos['Cluster'] == 2].index.tolist()\n",
        "\n",
        "print(\"Productos en el clúster de bajo rendimiento:\")\n",
        "print(productos_bajo_rendimiento)\n"
      ],
      "outputs": [],
      "execution_count": null,
      "metadata": {
        "jupyter": {
          "source_hidden": false,
          "outputs_hidden": false
        },
        "nteract": {
          "transient": {
            "deleting": false
          }
        },
        "gather": {
          "logged": 1732706227260
        }
      }
    },
    {
      "cell_type": "markdown",
      "source": [
        "## 5. Sugerencias Mejoradas para Optimización de Costos\n",
        "Basándonos en los modelos analíticos más complejos, podemos proporcionar recomendaciones más precisas.\n",
        "\n",
        "### 5.1. Integración de Resultados de los Modelos\n",
        "Combinamos los resultados del análisis de regresión y clustering para identificar productos que consistentemente muestran bajo rendimiento."
      ],
      "metadata": {
        "nteract": {
          "transient": {
            "deleting": false
          }
        }
      }
    },
    {
      "cell_type": "code",
      "source": [
        "# Identificamos productos con rentabilidad predicha baja\n",
        "rentabilidad_predicha = modelo_regresion.predict(X)\n",
        "umbral_rentabilidad_baja = np.percentile(rentabilidad_predicha, 20)  # 20% más bajo\n",
        "\n",
        "productos_rentabilidad_baja = X.index[rentabilidad_predicha <= umbral_rentabilidad_baja].tolist()\n",
        "\n",
        "# Intersectamos con productos del clúster de bajo rendimiento\n",
        "productos_a_considerar = set(productos_rentabilidad_baja).intersection(set(productos_bajo_rendimiento))\n",
        "\n",
        "print(\"Productos sugeridos para remoción o reevaluación (según ambos modelos):\")\n",
        "print(productos_bajo_rendimiento)\n"
      ],
      "outputs": [],
      "execution_count": null,
      "metadata": {
        "jupyter": {
          "source_hidden": false,
          "outputs_hidden": false
        },
        "nteract": {
          "transient": {
            "deleting": false
          }
        },
        "gather": {
          "logged": 1732706703648
        }
      }
    },
    {
      "cell_type": "markdown",
      "source": [
        "### 5.2. Visualización de los Productos Identificados\n",
        "Visualizamos estos productos para entender mejor su posición."
      ],
      "metadata": {
        "nteract": {
          "transient": {
            "deleting": false
          }
        }
      }
    },
    {
      "cell_type": "code",
      "source": [
        "# Visualizamos la rentabilidad real de los productos a considerar\n",
        "rentabilidad_productos_a_considerar = rentabilidad_por_producto.loc[productos_bajo_rendimiento]\n",
        "\n",
        "plt.figure(figsize=(8, 6))\n",
        "rentabilidad_productos_a_considerar.plot(kind='barh', color='darkred')\n",
        "plt.title('Rentabilidad de Productos Sugeridos (Modelos Avanzados)')\n",
        "plt.xlabel('Rentabilidad')\n",
        "plt.ylabel('Producto')\n",
        "plt.tight_layout()\n",
        "plt.show()\n"
      ],
      "outputs": [],
      "execution_count": null,
      "metadata": {
        "jupyter": {
          "source_hidden": false,
          "outputs_hidden": false
        },
        "nteract": {
          "transient": {
            "deleting": false
          }
        },
        "gather": {
          "logged": 1732706760740
        }
      }
    },
    {
      "cell_type": "markdown",
      "source": [
        "## 6. Conclusiones y Recomendaciones (Actualizadas)\n",
        "- **Análisis Profundo de Rentabilidad**: El modelo de regresión nos permitió identificar qué variables influyen más en la rentabilidad y predecir el desempeño de productos.\n",
        "\n",
        "- **Agrupación de Productos**: El análisis de clústeres nos ayudó a segmentar los productos en grupos con características similares, facilitando la implementación de estrategias específicas.\n",
        "\n",
        "- **Identificación de Productos Críticos**: Al combinar ambos modelos, identificamos productos que consistentemente presentan bajo rendimiento y son candidatos claros para remoción o reevaluación.\n",
        "\n",
        "**Acciones Recomendadas**:\n",
        "\n",
        "- **Remoción o Mejora de Productos**: Considerar eliminar productos con bajo desempeño o implementar estrategias para mejorar su rentabilidad.\n",
        "- **Enfoque en Productos Rentables**: Destinar más recursos y esfuerzos de marketing a los productos identificados como más rentables.\n",
        "**Reevaluación de Estrategias Comerciales: Analizar los canales de venta, segmentos de mercado y preferencias de cliente que afectan la rentabilidad.\n"
      ],
      "metadata": {
        "nteract": {
          "transient": {
            "deleting": false
          }
        }
      }
    }
  ],
  "metadata": {
    "kernelspec": {
      "name": "python38-azureml",
      "language": "python",
      "display_name": "Python 3.8 - AzureML"
    },
    "language_info": {
      "name": "python",
      "version": "3.10.11",
      "mimetype": "text/x-python",
      "codemirror_mode": {
        "name": "ipython",
        "version": 3
      },
      "pygments_lexer": "ipython3",
      "nbconvert_exporter": "python",
      "file_extension": ".py"
    },
    "microsoft": {
      "ms_spell_check": {
        "ms_spell_check_language": "en"
      },
      "host": {
        "AzureML": {
          "notebookHasBeenCompleted": true
        }
      }
    },
    "kernel_info": {
      "name": "python38-azureml"
    },
    "nteract": {
      "version": "nteract-front-end@1.0.0"
    }
  },
  "nbformat": 4,
  "nbformat_minor": 2
}